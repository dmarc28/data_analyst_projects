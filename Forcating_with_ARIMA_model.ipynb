{
 "cells": [
  {
   "cell_type": "code",
   "execution_count": 1,
   "id": "1f1fcce7",
   "metadata": {},
   "outputs": [],
   "source": [
    "import pandas as pd\n",
    "import matplotlib.pyplot as plt\n",
    "import seaborn as sns\n",
    "from statsmodels.tsa.seasonal import seasonal_decompose\n",
    "from statsmodels.tsa.arima.model import ARIMA"
   ]
  },
  {
   "cell_type": "code",
   "execution_count": 2,
   "id": "a9f1e219",
   "metadata": {},
   "outputs": [],
   "source": [
    "data = pd.read_csv(\"./USWTDB Wrangled.csv\")"
   ]
  },
  {
   "cell_type": "markdown",
   "id": "2325311f",
   "metadata": {},
   "source": [
    "**PART-1:** EXPLORATORY DATA ANALYSES\n",
    "\n",
    "KEY QUESTIONS:\n",
    "1. How many columns are there?\n",
    "2. What are the columns headers?\n",
    "3. How the dataframe is arrage?\n",
    "4. What data types are those columns?\n",
    "5. Which columns nulls?\n",
    "\n",
    "KEY OUTCOMES:\n",
    "1. No nulls in my columns of interest, in this case project year.\n",
    "2. Prepare a new dataset with a column \"cumulative_number_of_windturbine)\n",
    "3. Data ready for for a forecast modeling using ARIMA\n"
   ]
  },
  {
   "cell_type": "code",
   "execution_count": 3,
   "id": "3edf59f0",
   "metadata": {},
   "outputs": [
    {
     "data": {
      "text/plain": [
       "(72669, 27)"
      ]
     },
     "execution_count": 3,
     "metadata": {},
     "output_type": "execute_result"
    }
   ],
   "source": [
    "data.shape  #KQ- 1|"
   ]
  },
  {
   "cell_type": "code",
   "execution_count": 4,
   "id": "6f9185a2",
   "metadata": {},
   "outputs": [
    {
     "data": {
      "text/plain": [
       "Index(['case_id', 'faa_ors', 'faa_asn', 'usgs_pr_id', 'eia_id', 't_state',\n",
       "       't_county', 't_fips', 'project_name', 'project_year', 'turbine_count',\n",
       "       'project_capacity', 't_manufacturer', 't_model', 't_capacity',\n",
       "       't_hub_height', 't_diameter', 't_rotor_area', 't_total_height',\n",
       "       'retrofit', 'retrofit_year', 't_conf_atr', 't_conf_loc', 't_img_date',\n",
       "       't_img_srce', 'xlong', 'ylat'],\n",
       "      dtype='object')"
      ]
     },
     "execution_count": 4,
     "metadata": {},
     "output_type": "execute_result"
    }
   ],
   "source": [
    "data.columns #KQ- 2"
   ]
  },
  {
   "cell_type": "code",
   "execution_count": 5,
   "id": "a13cf31a",
   "metadata": {},
   "outputs": [
    {
     "data": {
      "text/html": [
       "<div>\n",
       "<style scoped>\n",
       "    .dataframe tbody tr th:only-of-type {\n",
       "        vertical-align: middle;\n",
       "    }\n",
       "\n",
       "    .dataframe tbody tr th {\n",
       "        vertical-align: top;\n",
       "    }\n",
       "\n",
       "    .dataframe thead th {\n",
       "        text-align: right;\n",
       "    }\n",
       "</style>\n",
       "<table border=\"1\" class=\"dataframe\">\n",
       "  <thead>\n",
       "    <tr style=\"text-align: right;\">\n",
       "      <th></th>\n",
       "      <th>case_id</th>\n",
       "      <th>faa_ors</th>\n",
       "      <th>faa_asn</th>\n",
       "      <th>usgs_pr_id</th>\n",
       "      <th>eia_id</th>\n",
       "      <th>t_state</th>\n",
       "      <th>t_county</th>\n",
       "      <th>t_fips</th>\n",
       "      <th>project_name</th>\n",
       "      <th>project_year</th>\n",
       "      <th>...</th>\n",
       "      <th>t_rotor_area</th>\n",
       "      <th>t_total_height</th>\n",
       "      <th>retrofit</th>\n",
       "      <th>retrofit_year</th>\n",
       "      <th>t_conf_atr</th>\n",
       "      <th>t_conf_loc</th>\n",
       "      <th>t_img_date</th>\n",
       "      <th>t_img_srce</th>\n",
       "      <th>xlong</th>\n",
       "      <th>ylat</th>\n",
       "    </tr>\n",
       "  </thead>\n",
       "  <tbody>\n",
       "    <tr>\n",
       "      <th>0</th>\n",
       "      <td>3072695</td>\n",
       "      <td>NaN</td>\n",
       "      <td>NaN</td>\n",
       "      <td>5143.0</td>\n",
       "      <td>52161.0</td>\n",
       "      <td>CA</td>\n",
       "      <td>Kern County</td>\n",
       "      <td>6029</td>\n",
       "      <td>251 Wind</td>\n",
       "      <td>1987.0</td>\n",
       "      <td>...</td>\n",
       "      <td>NaN</td>\n",
       "      <td>NaN</td>\n",
       "      <td>0</td>\n",
       "      <td>NaN</td>\n",
       "      <td>2</td>\n",
       "      <td>3</td>\n",
       "      <td>5/8/2018</td>\n",
       "      <td>Digital Globe</td>\n",
       "      <td>-118.364410</td>\n",
       "      <td>35.077435</td>\n",
       "    </tr>\n",
       "    <tr>\n",
       "      <th>1</th>\n",
       "      <td>3072661</td>\n",
       "      <td>NaN</td>\n",
       "      <td>NaN</td>\n",
       "      <td>5149.0</td>\n",
       "      <td>52161.0</td>\n",
       "      <td>CA</td>\n",
       "      <td>Kern County</td>\n",
       "      <td>6029</td>\n",
       "      <td>251 Wind</td>\n",
       "      <td>1987.0</td>\n",
       "      <td>...</td>\n",
       "      <td>NaN</td>\n",
       "      <td>NaN</td>\n",
       "      <td>0</td>\n",
       "      <td>NaN</td>\n",
       "      <td>2</td>\n",
       "      <td>3</td>\n",
       "      <td>5/8/2018</td>\n",
       "      <td>Digital Globe</td>\n",
       "      <td>-118.363762</td>\n",
       "      <td>35.077908</td>\n",
       "    </tr>\n",
       "    <tr>\n",
       "      <th>2</th>\n",
       "      <td>3072704</td>\n",
       "      <td>NaN</td>\n",
       "      <td>NaN</td>\n",
       "      <td>5146.0</td>\n",
       "      <td>52161.0</td>\n",
       "      <td>CA</td>\n",
       "      <td>Kern County</td>\n",
       "      <td>6029</td>\n",
       "      <td>251 Wind</td>\n",
       "      <td>1987.0</td>\n",
       "      <td>...</td>\n",
       "      <td>NaN</td>\n",
       "      <td>NaN</td>\n",
       "      <td>0</td>\n",
       "      <td>NaN</td>\n",
       "      <td>2</td>\n",
       "      <td>3</td>\n",
       "      <td>5/8/2018</td>\n",
       "      <td>Digital Globe</td>\n",
       "      <td>-118.364197</td>\n",
       "      <td>35.077644</td>\n",
       "    </tr>\n",
       "    <tr>\n",
       "      <th>3</th>\n",
       "      <td>3063269</td>\n",
       "      <td>19-028130</td>\n",
       "      <td>2016-WTE-5934-OE</td>\n",
       "      <td>NaN</td>\n",
       "      <td>NaN</td>\n",
       "      <td>IA</td>\n",
       "      <td>Story County</td>\n",
       "      <td>19169</td>\n",
       "      <td>30 MW Iowa DG Portfolio</td>\n",
       "      <td>2017.0</td>\n",
       "      <td>...</td>\n",
       "      <td>12271.85</td>\n",
       "      <td>150.0</td>\n",
       "      <td>0</td>\n",
       "      <td>NaN</td>\n",
       "      <td>3</td>\n",
       "      <td>3</td>\n",
       "      <td>7/23/2017</td>\n",
       "      <td>Digital Globe</td>\n",
       "      <td>-93.632835</td>\n",
       "      <td>41.882477</td>\n",
       "    </tr>\n",
       "    <tr>\n",
       "      <th>4</th>\n",
       "      <td>3057059</td>\n",
       "      <td>19-027954</td>\n",
       "      <td>2016-WTE-9485-OE</td>\n",
       "      <td>NaN</td>\n",
       "      <td>NaN</td>\n",
       "      <td>IA</td>\n",
       "      <td>Story County</td>\n",
       "      <td>19169</td>\n",
       "      <td>30 MW Iowa DG Portfolio</td>\n",
       "      <td>2017.0</td>\n",
       "      <td>...</td>\n",
       "      <td>12271.85</td>\n",
       "      <td>150.0</td>\n",
       "      <td>0</td>\n",
       "      <td>NaN</td>\n",
       "      <td>3</td>\n",
       "      <td>3</td>\n",
       "      <td>5/13/2017</td>\n",
       "      <td>Digital Globe</td>\n",
       "      <td>-93.623009</td>\n",
       "      <td>41.881470</td>\n",
       "    </tr>\n",
       "  </tbody>\n",
       "</table>\n",
       "<p>5 rows × 27 columns</p>\n",
       "</div>"
      ],
      "text/plain": [
       "   case_id    faa_ors           faa_asn  usgs_pr_id   eia_id t_state  \\\n",
       "0  3072695        NaN               NaN      5143.0  52161.0      CA   \n",
       "1  3072661        NaN               NaN      5149.0  52161.0      CA   \n",
       "2  3072704        NaN               NaN      5146.0  52161.0      CA   \n",
       "3  3063269  19-028130  2016-WTE-5934-OE         NaN      NaN      IA   \n",
       "4  3057059  19-027954  2016-WTE-9485-OE         NaN      NaN      IA   \n",
       "\n",
       "       t_county  t_fips             project_name  project_year  ...  \\\n",
       "0   Kern County    6029                 251 Wind        1987.0  ...   \n",
       "1   Kern County    6029                 251 Wind        1987.0  ...   \n",
       "2   Kern County    6029                 251 Wind        1987.0  ...   \n",
       "3  Story County   19169  30 MW Iowa DG Portfolio        2017.0  ...   \n",
       "4  Story County   19169  30 MW Iowa DG Portfolio        2017.0  ...   \n",
       "\n",
       "   t_rotor_area  t_total_height retrofit retrofit_year  t_conf_atr  \\\n",
       "0           NaN             NaN        0           NaN           2   \n",
       "1           NaN             NaN        0           NaN           2   \n",
       "2           NaN             NaN        0           NaN           2   \n",
       "3      12271.85           150.0        0           NaN           3   \n",
       "4      12271.85           150.0        0           NaN           3   \n",
       "\n",
       "   t_conf_loc  t_img_date     t_img_srce       xlong       ylat  \n",
       "0           3    5/8/2018  Digital Globe -118.364410  35.077435  \n",
       "1           3    5/8/2018  Digital Globe -118.363762  35.077908  \n",
       "2           3    5/8/2018  Digital Globe -118.364197  35.077644  \n",
       "3           3   7/23/2017  Digital Globe  -93.632835  41.882477  \n",
       "4           3   5/13/2017  Digital Globe  -93.623009  41.881470  \n",
       "\n",
       "[5 rows x 27 columns]"
      ]
     },
     "execution_count": 5,
     "metadata": {},
     "output_type": "execute_result"
    }
   ],
   "source": [
    "data.head() #KQ- 3"
   ]
  },
  {
   "cell_type": "code",
   "execution_count": 6,
   "id": "dcf378c7",
   "metadata": {},
   "outputs": [
    {
     "name": "stdout",
     "output_type": "stream",
     "text": [
      "<class 'pandas.core.frame.DataFrame'>\n",
      "RangeIndex: 72669 entries, 0 to 72668\n",
      "Data columns (total 27 columns):\n",
      " #   Column            Non-Null Count  Dtype  \n",
      "---  ------            --------------  -----  \n",
      " 0   case_id           72669 non-null  int64  \n",
      " 1   faa_ors           67310 non-null  object \n",
      " 2   faa_asn           67537 non-null  object \n",
      " 3   usgs_pr_id        37904 non-null  float64\n",
      " 4   eia_id            68347 non-null  float64\n",
      " 5   t_state           72669 non-null  object \n",
      " 6   t_county          72669 non-null  object \n",
      " 7   t_fips            72669 non-null  int64  \n",
      " 8   project_name      72669 non-null  object \n",
      " 9   project_year      72113 non-null  float64\n",
      " 10  turbine_count     72669 non-null  int64  \n",
      " 11  project_capacity  69255 non-null  float64\n",
      " 12  t_manufacturer    68096 non-null  object \n",
      " 13  t_model           67959 non-null  object \n",
      " 14  t_capacity        68267 non-null  float64\n",
      " 15  t_hub_height      67771 non-null  float64\n",
      " 16  t_diameter        67829 non-null  float64\n",
      " 17  t_rotor_area      67829 non-null  float64\n",
      " 18  t_total_height    67770 non-null  float64\n",
      " 19  retrofit          72669 non-null  int64  \n",
      " 20  retrofit_year     6711 non-null   float64\n",
      " 21  t_conf_atr        72669 non-null  int64  \n",
      " 22  t_conf_loc        72669 non-null  int64  \n",
      " 23  t_img_date        64710 non-null  object \n",
      " 24  t_img_srce        72669 non-null  object \n",
      " 25  xlong             72669 non-null  float64\n",
      " 26  ylat              72669 non-null  float64\n",
      "dtypes: float64(12), int64(6), object(9)\n",
      "memory usage: 15.0+ MB\n"
     ]
    }
   ],
   "source": [
    "data.info() #KQ- 4"
   ]
  },
  {
   "cell_type": "code",
   "execution_count": 7,
   "id": "18327ccc",
   "metadata": {},
   "outputs": [
    {
     "data": {
      "image/png": "[encoded data removed]",
      "text/plain": [
       "<Figure size 640x480 with 2 Axes>"
      ]
     },
     "metadata": {},
     "output_type": "display_data"
    }
   ],
   "source": [
    "sns.heatmap(data.isnull());   #KQ- 5"
   ]
  },
  {
   "cell_type": "markdown",
   "id": "7f554c7a",
   "metadata": {},
   "source": [
    "There are only a few null value in project_year column. The number of rows with a null value for preject_year is very small considering the size of the dataset. So deleting the rows with null will not impact the overall dataset.\n",
    "\n",
    "So I want to delete the null rows inplace."
   ]
  },
  {
   "cell_type": "code",
   "execution_count": 8,
   "id": "4d5d91ea",
   "metadata": {},
   "outputs": [],
   "source": [
    "data.dropna(subset=[\"project_year\"], inplace=True)\n"
   ]
  },
  {
   "cell_type": "markdown",
   "id": "1378856d",
   "metadata": {},
   "source": [
    "Lets take a look at the project_year column"
   ]
  },
  {
   "cell_type": "code",
   "execution_count": 9,
   "id": "8d550718",
   "metadata": {},
   "outputs": [
    {
     "data": {
      "text/plain": [
       "0        1987.0\n",
       "1        1987.0\n",
       "2        1987.0\n",
       "3        2017.0\n",
       "4        2017.0\n",
       "          ...  \n",
       "72664    2022.0\n",
       "72665    2022.0\n",
       "72666    2011.0\n",
       "72667    2016.0\n",
       "72668    2016.0\n",
       "Name: project_year, Length: 72113, dtype: float64"
      ]
     },
     "execution_count": 9,
     "metadata": {},
     "output_type": "execute_result"
    }
   ],
   "source": [
    "data[\"project_year\"]"
   ]
  },
  {
   "cell_type": "markdown",
   "id": "73ba9205",
   "metadata": {},
   "source": [
    "These years are float64 datatype. So let's convert them to a datetime object and have a yyyy-mm-dd"
   ]
  },
  {
   "cell_type": "code",
   "execution_count": 10,
   "id": "01358b01",
   "metadata": {},
   "outputs": [],
   "source": [
    "# pd.to_datetime(data[\"project_year\"])\n",
    "data[\"project_year\"] = pd.to_datetime(data[\"project_year\"], format=\"%Y\")\n",
    "\n"
   ]
  },
  {
   "cell_type": "markdown",
   "id": "58a494da",
   "metadata": {},
   "source": [
    "Now let's see how the project_year column looks"
   ]
  },
  {
   "cell_type": "code",
   "execution_count": 11,
   "id": "74bc457e",
   "metadata": {},
   "outputs": [
    {
     "data": {
      "text/plain": [
       "0       1987-01-01\n",
       "1       1987-01-01\n",
       "2       1987-01-01\n",
       "3       2017-01-01\n",
       "4       2017-01-01\n",
       "           ...    \n",
       "72664   2022-01-01\n",
       "72665   2022-01-01\n",
       "72666   2011-01-01\n",
       "72667   2016-01-01\n",
       "72668   2016-01-01\n",
       "Name: project_year, Length: 72113, dtype: datetime64[ns]"
      ]
     },
     "execution_count": 11,
     "metadata": {},
     "output_type": "execute_result"
    }
   ],
   "source": [
    "data[\"project_year\"]"
   ]
  },
  {
   "cell_type": "markdown",
   "id": "e348f8e6",
   "metadata": {},
   "source": [
    "So now the data type is datetime64[ns] and the format looks exactly what I wanted."
   ]
  },
  {
   "cell_type": "code",
   "execution_count": 12,
   "id": "96060647",
   "metadata": {},
   "outputs": [],
   "source": [
    "# the following code prints the dataframe. but this dataframe is way too big to be printed so don't print this.\n",
    "# print(data.to_string())"
   ]
  },
  {
   "cell_type": "markdown",
   "id": "e2a16365",
   "metadata": {},
   "source": [
    "Now lets make a plot. I want to see a plot that shows the number of Wind Turbine added each year for the years in the dataset:"
   ]
  },
  {
   "cell_type": "code",
   "execution_count": 13,
   "id": "8eb2447e",
   "metadata": {},
   "outputs": [
    {
     "data": {
      "image/png": "[encoded data removed]",
      "text/plain": [
       "<Figure size 640x480 with 1 Axes>"
      ]
     },
     "metadata": {},
     "output_type": "display_data"
    }
   ],
   "source": [
    "data.groupby(\"project_year\")[\"case_id\"].count().plot()\n",
    "plt.title(\"Annual Wind Capacity\")\n",
    "plt.xlabel(\"Year\")\n",
    "plt.ylabel(\"Counts\")\n",
    "plt.show;"
   ]
  },
  {
   "cell_type": "markdown",
   "id": "e5eec7f7",
   "metadata": {},
   "source": [
    "Now lets make a table with the output and name the columns as \"year\" and \"count\":"
   ]
  },
  {
   "cell_type": "code",
   "execution_count": 14,
   "id": "a2b434bc",
   "metadata": {},
   "outputs": [],
   "source": [
    "counts_in_years = data['project_year'].value_counts().sort_index().reset_index()\n",
    "counts_in_years.columns = ['year', 'count']"
   ]
  },
  {
   "cell_type": "markdown",
   "id": "6d1f9404",
   "metadata": {},
   "source": [
    "Now let's make it a pandas dataframe:"
   ]
  },
  {
   "cell_type": "code",
   "execution_count": 15,
   "id": "b25fc9ad",
   "metadata": {},
   "outputs": [
    {
     "data": {
      "text/html": [
       "<div>\n",
       "<style scoped>\n",
       "    .dataframe tbody tr th:only-of-type {\n",
       "        vertical-align: middle;\n",
       "    }\n",
       "\n",
       "    .dataframe tbody tr th {\n",
       "        vertical-align: top;\n",
       "    }\n",
       "\n",
       "    .dataframe thead th {\n",
       "        text-align: right;\n",
       "    }\n",
       "</style>\n",
       "<table border=\"1\" class=\"dataframe\">\n",
       "  <thead>\n",
       "    <tr style=\"text-align: right;\">\n",
       "      <th></th>\n",
       "      <th>year</th>\n",
       "      <th>count</th>\n",
       "    </tr>\n",
       "  </thead>\n",
       "  <tbody>\n",
       "    <tr>\n",
       "      <th>0</th>\n",
       "      <td>1982-01-01</td>\n",
       "      <td>930</td>\n",
       "    </tr>\n",
       "    <tr>\n",
       "      <th>1</th>\n",
       "      <td>1983-01-01</td>\n",
       "      <td>433</td>\n",
       "    </tr>\n",
       "    <tr>\n",
       "      <th>2</th>\n",
       "      <td>1984-01-01</td>\n",
       "      <td>155</td>\n",
       "    </tr>\n",
       "    <tr>\n",
       "      <th>3</th>\n",
       "      <td>1985-01-01</td>\n",
       "      <td>482</td>\n",
       "    </tr>\n",
       "    <tr>\n",
       "      <th>4</th>\n",
       "      <td>1986-01-01</td>\n",
       "      <td>79</td>\n",
       "    </tr>\n",
       "    <tr>\n",
       "      <th>5</th>\n",
       "      <td>1987-01-01</td>\n",
       "      <td>193</td>\n",
       "    </tr>\n",
       "    <tr>\n",
       "      <th>6</th>\n",
       "      <td>1988-01-01</td>\n",
       "      <td>162</td>\n",
       "    </tr>\n",
       "    <tr>\n",
       "      <th>7</th>\n",
       "      <td>1989-01-01</td>\n",
       "      <td>288</td>\n",
       "    </tr>\n",
       "    <tr>\n",
       "      <th>8</th>\n",
       "      <td>1990-01-01</td>\n",
       "      <td>1</td>\n",
       "    </tr>\n",
       "    <tr>\n",
       "      <th>9</th>\n",
       "      <td>1991-01-01</td>\n",
       "      <td>1</td>\n",
       "    </tr>\n",
       "    <tr>\n",
       "      <th>10</th>\n",
       "      <td>1992-01-01</td>\n",
       "      <td>2</td>\n",
       "    </tr>\n",
       "    <tr>\n",
       "      <th>11</th>\n",
       "      <td>1994-01-01</td>\n",
       "      <td>10</td>\n",
       "    </tr>\n",
       "    <tr>\n",
       "      <th>12</th>\n",
       "      <td>1995-01-01</td>\n",
       "      <td>21</td>\n",
       "    </tr>\n",
       "    <tr>\n",
       "      <th>13</th>\n",
       "      <td>1996-01-01</td>\n",
       "      <td>1</td>\n",
       "    </tr>\n",
       "    <tr>\n",
       "      <th>14</th>\n",
       "      <td>1997-01-01</td>\n",
       "      <td>230</td>\n",
       "    </tr>\n",
       "    <tr>\n",
       "      <th>15</th>\n",
       "      <td>1998-01-01</td>\n",
       "      <td>184</td>\n",
       "    </tr>\n",
       "    <tr>\n",
       "      <th>16</th>\n",
       "      <td>1999-01-01</td>\n",
       "      <td>550</td>\n",
       "    </tr>\n",
       "    <tr>\n",
       "      <th>17</th>\n",
       "      <td>2000-01-01</td>\n",
       "      <td>41</td>\n",
       "    </tr>\n",
       "    <tr>\n",
       "      <th>18</th>\n",
       "      <td>2001-01-01</td>\n",
       "      <td>1776</td>\n",
       "    </tr>\n",
       "    <tr>\n",
       "      <th>19</th>\n",
       "      <td>2002-01-01</td>\n",
       "      <td>458</td>\n",
       "    </tr>\n",
       "    <tr>\n",
       "      <th>20</th>\n",
       "      <td>2003-01-01</td>\n",
       "      <td>1120</td>\n",
       "    </tr>\n",
       "    <tr>\n",
       "      <th>21</th>\n",
       "      <td>2004-01-01</td>\n",
       "      <td>162</td>\n",
       "    </tr>\n",
       "    <tr>\n",
       "      <th>22</th>\n",
       "      <td>2005-01-01</td>\n",
       "      <td>1240</td>\n",
       "    </tr>\n",
       "    <tr>\n",
       "      <th>23</th>\n",
       "      <td>2006-01-01</td>\n",
       "      <td>1023</td>\n",
       "    </tr>\n",
       "    <tr>\n",
       "      <th>24</th>\n",
       "      <td>2007-01-01</td>\n",
       "      <td>2991</td>\n",
       "    </tr>\n",
       "    <tr>\n",
       "      <th>25</th>\n",
       "      <td>2008-01-01</td>\n",
       "      <td>4849</td>\n",
       "    </tr>\n",
       "    <tr>\n",
       "      <th>26</th>\n",
       "      <td>2009-01-01</td>\n",
       "      <td>5701</td>\n",
       "    </tr>\n",
       "    <tr>\n",
       "      <th>27</th>\n",
       "      <td>2010-01-01</td>\n",
       "      <td>2958</td>\n",
       "    </tr>\n",
       "    <tr>\n",
       "      <th>28</th>\n",
       "      <td>2011-01-01</td>\n",
       "      <td>3573</td>\n",
       "    </tr>\n",
       "    <tr>\n",
       "      <th>29</th>\n",
       "      <td>2012-01-01</td>\n",
       "      <td>6643</td>\n",
       "    </tr>\n",
       "    <tr>\n",
       "      <th>30</th>\n",
       "      <td>2013-01-01</td>\n",
       "      <td>599</td>\n",
       "    </tr>\n",
       "    <tr>\n",
       "      <th>31</th>\n",
       "      <td>2014-01-01</td>\n",
       "      <td>2505</td>\n",
       "    </tr>\n",
       "    <tr>\n",
       "      <th>32</th>\n",
       "      <td>2015-01-01</td>\n",
       "      <td>4305</td>\n",
       "    </tr>\n",
       "    <tr>\n",
       "      <th>33</th>\n",
       "      <td>2016-01-01</td>\n",
       "      <td>3797</td>\n",
       "    </tr>\n",
       "    <tr>\n",
       "      <th>34</th>\n",
       "      <td>2017-01-01</td>\n",
       "      <td>4361</td>\n",
       "    </tr>\n",
       "    <tr>\n",
       "      <th>35</th>\n",
       "      <td>2018-01-01</td>\n",
       "      <td>3116</td>\n",
       "    </tr>\n",
       "    <tr>\n",
       "      <th>36</th>\n",
       "      <td>2019-01-01</td>\n",
       "      <td>3587</td>\n",
       "    </tr>\n",
       "    <tr>\n",
       "      <th>37</th>\n",
       "      <td>2020-01-01</td>\n",
       "      <td>6444</td>\n",
       "    </tr>\n",
       "    <tr>\n",
       "      <th>38</th>\n",
       "      <td>2021-01-01</td>\n",
       "      <td>4747</td>\n",
       "    </tr>\n",
       "    <tr>\n",
       "      <th>39</th>\n",
       "      <td>2022-01-01</td>\n",
       "      <td>2395</td>\n",
       "    </tr>\n",
       "  </tbody>\n",
       "</table>\n",
       "</div>"
      ],
      "text/plain": [
       "         year  count\n",
       "0  1982-01-01    930\n",
       "1  1983-01-01    433\n",
       "2  1984-01-01    155\n",
       "3  1985-01-01    482\n",
       "4  1986-01-01     79\n",
       "5  1987-01-01    193\n",
       "6  1988-01-01    162\n",
       "7  1989-01-01    288\n",
       "8  1990-01-01      1\n",
       "9  1991-01-01      1\n",
       "10 1992-01-01      2\n",
       "11 1994-01-01     10\n",
       "12 1995-01-01     21\n",
       "13 1996-01-01      1\n",
       "14 1997-01-01    230\n",
       "15 1998-01-01    184\n",
       "16 1999-01-01    550\n",
       "17 2000-01-01     41\n",
       "18 2001-01-01   1776\n",
       "19 2002-01-01    458\n",
       "20 2003-01-01   1120\n",
       "21 2004-01-01    162\n",
       "22 2005-01-01   1240\n",
       "23 2006-01-01   1023\n",
       "24 2007-01-01   2991\n",
       "25 2008-01-01   4849\n",
       "26 2009-01-01   5701\n",
       "27 2010-01-01   2958\n",
       "28 2011-01-01   3573\n",
       "29 2012-01-01   6643\n",
       "30 2013-01-01    599\n",
       "31 2014-01-01   2505\n",
       "32 2015-01-01   4305\n",
       "33 2016-01-01   3797\n",
       "34 2017-01-01   4361\n",
       "35 2018-01-01   3116\n",
       "36 2019-01-01   3587\n",
       "37 2020-01-01   6444\n",
       "38 2021-01-01   4747\n",
       "39 2022-01-01   2395"
      ]
     },
     "execution_count": 15,
     "metadata": {},
     "output_type": "execute_result"
    }
   ],
   "source": [
    "df = pd.DataFrame(counts_in_years)\n",
    "df"
   ]
  },
  {
   "cell_type": "markdown",
   "id": "c4734647",
   "metadata": {},
   "source": [
    "to create a predictive model let's create a column with the cumulative number of wind turbine and:"
   ]
  },
  {
   "cell_type": "code",
   "execution_count": 16,
   "id": "d7457ef5",
   "metadata": {},
   "outputs": [],
   "source": [
    "df[\"cumulative_windturbine_num\"] = df[\"count\"].cumsum()"
   ]
  },
  {
   "cell_type": "code",
   "execution_count": 17,
   "id": "49b4c840",
   "metadata": {},
   "outputs": [
    {
     "name": "stdout",
     "output_type": "stream",
     "text": [
      "<class 'pandas.core.frame.DataFrame'>\n",
      "RangeIndex: 40 entries, 0 to 39\n",
      "Data columns (total 3 columns):\n",
      " #   Column                      Non-Null Count  Dtype         \n",
      "---  ------                      --------------  -----         \n",
      " 0   year                        40 non-null     datetime64[ns]\n",
      " 1   count                       40 non-null     int64         \n",
      " 2   cumulative_windturbine_num  40 non-null     int64         \n",
      "dtypes: datetime64[ns](1), int64(2)\n",
      "memory usage: 1.1 KB\n"
     ]
    }
   ],
   "source": [
    "df.info() #just checking if Dtype of \"year\" has be impacted unintentionaly"
   ]
  },
  {
   "cell_type": "markdown",
   "id": "f37518b4",
   "metadata": {},
   "source": [
    "Everything looks great lets set the year column as index:"
   ]
  },
  {
   "cell_type": "code",
   "execution_count": 18,
   "id": "499177f4",
   "metadata": {},
   "outputs": [],
   "source": [
    "df.set_index(\"year\", inplace=True) "
   ]
  },
  {
   "cell_type": "code",
   "execution_count": 19,
   "id": "a9164553",
   "metadata": {},
   "outputs": [
    {
     "data": {
      "image/png": "[encoded data removed]",
      "text/plain": [
       "<Figure size 640x480 with 1 Axes>"
      ]
     },
     "metadata": {},
     "output_type": "display_data"
    }
   ],
   "source": [
    "sns.lineplot(x= df.index, y=\"cumulative_windturbine_num\", data=df)\n",
    "# sns.lineplot(x= df.index, y=\"count\", data=df)\n",
    "plt.title(\"Cumulative Wind Capacity\");"
   ]
  },
  {
   "cell_type": "markdown",
   "id": "f99c91e7",
   "metadata": {},
   "source": [
    "**Now time for some modeling:**\n",
    "\n",
    "**Step 1:** import the from statsmodels.tsa.arima.model import ARIMA (it has been imported in the cell 1)\n",
    "**Step 2:** resample the data on a yearly frequency."
   ]
  },
  {
   "cell_type": "code",
   "execution_count": 20,
   "id": "06f8ca92",
   "metadata": {},
   "outputs": [],
   "source": [
    "growth_over_year = df.resample(\"Y\")[\"cumulative_windturbine_num\"].mean()"
   ]
  },
  {
   "cell_type": "code",
   "execution_count": 21,
   "id": "05bcecb7",
   "metadata": {},
   "outputs": [
    {
     "ename": "ValueError",
     "evalue": "This function does not handle missing values",
     "output_type": "error",
     "traceback": [
      "\u001b[0;31m---------------------------------------------------------------------------\u001b[0m",
      "\u001b[0;31mValueError\u001b[0m                                Traceback (most recent call last)",
      "\u001b[0;32m/var/folders/6n/c4n1zckn7vs1dh020lln_h6m0000gn/T/ipykernel_12033/3829599740.py\u001b[0m in \u001b[0;36m<module>\u001b[0;34m\u001b[0m\n\u001b[0;32m----> 1\u001b[0;31m \u001b[0mdecomposition\u001b[0m \u001b[0;34m=\u001b[0m \u001b[0mseasonal_decompose\u001b[0m\u001b[0;34m(\u001b[0m\u001b[0mgrowth_over_year\u001b[0m\u001b[0;34m)\u001b[0m\u001b[0;34m\u001b[0m\u001b[0;34m\u001b[0m\u001b[0m\n\u001b[0m\u001b[1;32m      2\u001b[0m \u001b[0mfig\u001b[0m \u001b[0;34m=\u001b[0m \u001b[0mplt\u001b[0m\u001b[0;34m.\u001b[0m\u001b[0mfigure\u001b[0m\u001b[0;34m(\u001b[0m\u001b[0;34m)\u001b[0m\u001b[0;34m\u001b[0m\u001b[0;34m\u001b[0m\u001b[0m\n\u001b[1;32m      3\u001b[0m \u001b[0mfig\u001b[0m \u001b[0;34m=\u001b[0m \u001b[0mdecomposition\u001b[0m\u001b[0;34m.\u001b[0m\u001b[0mplot\u001b[0m\u001b[0;34m(\u001b[0m\u001b[0;34m)\u001b[0m\u001b[0;34m\u001b[0m\u001b[0;34m\u001b[0m\u001b[0m\n",
      "\u001b[0;32m~/opt/anaconda3/lib/python3.9/site-packages/statsmodels/tsa/seasonal.py\u001b[0m in \u001b[0;36mseasonal_decompose\u001b[0;34m(x, model, filt, period, two_sided, extrapolate_trend)\u001b[0m\n\u001b[1;32m    144\u001b[0m \u001b[0;34m\u001b[0m\u001b[0m\n\u001b[1;32m    145\u001b[0m     \u001b[0;32mif\u001b[0m \u001b[0;32mnot\u001b[0m \u001b[0mnp\u001b[0m\u001b[0;34m.\u001b[0m\u001b[0mall\u001b[0m\u001b[0;34m(\u001b[0m\u001b[0mnp\u001b[0m\u001b[0;34m.\u001b[0m\u001b[0misfinite\u001b[0m\u001b[0;34m(\u001b[0m\u001b[0mx\u001b[0m\u001b[0;34m)\u001b[0m\u001b[0;34m)\u001b[0m\u001b[0;34m:\u001b[0m\u001b[0;34m\u001b[0m\u001b[0;34m\u001b[0m\u001b[0m\n\u001b[0;32m--> 146\u001b[0;31m         \u001b[0;32mraise\u001b[0m \u001b[0mValueError\u001b[0m\u001b[0;34m(\u001b[0m\u001b[0;34m\"This function does not handle missing values\"\u001b[0m\u001b[0;34m)\u001b[0m\u001b[0;34m\u001b[0m\u001b[0;34m\u001b[0m\u001b[0m\n\u001b[0m\u001b[1;32m    147\u001b[0m     \u001b[0;32mif\u001b[0m \u001b[0mmodel\u001b[0m\u001b[0;34m.\u001b[0m\u001b[0mstartswith\u001b[0m\u001b[0;34m(\u001b[0m\u001b[0;34m\"m\"\u001b[0m\u001b[0;34m)\u001b[0m\u001b[0;34m:\u001b[0m\u001b[0;34m\u001b[0m\u001b[0;34m\u001b[0m\u001b[0m\n\u001b[1;32m    148\u001b[0m         \u001b[0;32mif\u001b[0m \u001b[0mnp\u001b[0m\u001b[0;34m.\u001b[0m\u001b[0many\u001b[0m\u001b[0;34m(\u001b[0m\u001b[0mx\u001b[0m \u001b[0;34m<=\u001b[0m \u001b[0;36m0\u001b[0m\u001b[0;34m)\u001b[0m\u001b[0;34m:\u001b[0m\u001b[0;34m\u001b[0m\u001b[0;34m\u001b[0m\u001b[0m\n",
      "\u001b[0;31mValueError\u001b[0m: This function does not handle missing values"
     ]
    }
   ],
   "source": [
    "decomposition = seasonal_decompose(growth_over_year)\n",
    "fig = plt.figure()\n",
    "fig = decomposition.plot()"
   ]
  },
  {
   "cell_type": "markdown",
   "id": "c6363377",
   "metadata": {},
   "source": [
    "lets check if where is the missing data"
   ]
  },
  {
   "cell_type": "code",
   "execution_count": 22,
   "id": "41d315e7",
   "metadata": {},
   "outputs": [
    {
     "data": {
      "text/plain": [
       "DatetimeIndex(['1982-01-01', '1983-01-01', '1984-01-01', '1985-01-01',\n",
       "               '1986-01-01', '1987-01-01', '1988-01-01', '1989-01-01',\n",
       "               '1990-01-01', '1991-01-01', '1992-01-01', '1994-01-01',\n",
       "               '1995-01-01', '1996-01-01', '1997-01-01', '1998-01-01',\n",
       "               '1999-01-01', '2000-01-01', '2001-01-01', '2002-01-01',\n",
       "               '2003-01-01', '2004-01-01', '2005-01-01', '2006-01-01',\n",
       "               '2007-01-01', '2008-01-01', '2009-01-01', '2010-01-01',\n",
       "               '2011-01-01', '2012-01-01', '2013-01-01', '2014-01-01',\n",
       "               '2015-01-01', '2016-01-01', '2017-01-01', '2018-01-01',\n",
       "               '2019-01-01', '2020-01-01', '2021-01-01', '2022-01-01'],\n",
       "              dtype='datetime64[ns]', name='year', freq=None)"
      ]
     },
     "execution_count": 22,
     "metadata": {},
     "output_type": "execute_result"
    }
   ],
   "source": [
    "df.index"
   ]
  },
  {
   "cell_type": "markdown",
   "id": "a5a9de36",
   "metadata": {},
   "source": [
    "**Looking at the index it is clean that year 1993-01-01 is missing.**"
   ]
  },
  {
   "cell_type": "code",
   "execution_count": 23,
   "id": "c565cf7a",
   "metadata": {},
   "outputs": [
    {
     "data": {
      "text/html": [
       "<div>\n",
       "<style scoped>\n",
       "    .dataframe tbody tr th:only-of-type {\n",
       "        vertical-align: middle;\n",
       "    }\n",
       "\n",
       "    .dataframe tbody tr th {\n",
       "        vertical-align: top;\n",
       "    }\n",
       "\n",
       "    .dataframe thead th {\n",
       "        text-align: right;\n",
       "    }\n",
       "</style>\n",
       "<table border=\"1\" class=\"dataframe\">\n",
       "  <thead>\n",
       "    <tr style=\"text-align: right;\">\n",
       "      <th></th>\n",
       "      <th>count</th>\n",
       "      <th>cumulative_windturbine_num</th>\n",
       "    </tr>\n",
       "    <tr>\n",
       "      <th>year</th>\n",
       "      <th></th>\n",
       "      <th></th>\n",
       "    </tr>\n",
       "  </thead>\n",
       "  <tbody>\n",
       "    <tr>\n",
       "      <th>1982-01-01</th>\n",
       "      <td>930</td>\n",
       "      <td>930</td>\n",
       "    </tr>\n",
       "    <tr>\n",
       "      <th>1983-01-01</th>\n",
       "      <td>433</td>\n",
       "      <td>1363</td>\n",
       "    </tr>\n",
       "    <tr>\n",
       "      <th>1984-01-01</th>\n",
       "      <td>155</td>\n",
       "      <td>1518</td>\n",
       "    </tr>\n",
       "    <tr>\n",
       "      <th>1985-01-01</th>\n",
       "      <td>482</td>\n",
       "      <td>2000</td>\n",
       "    </tr>\n",
       "    <tr>\n",
       "      <th>1986-01-01</th>\n",
       "      <td>79</td>\n",
       "      <td>2079</td>\n",
       "    </tr>\n",
       "    <tr>\n",
       "      <th>1987-01-01</th>\n",
       "      <td>193</td>\n",
       "      <td>2272</td>\n",
       "    </tr>\n",
       "    <tr>\n",
       "      <th>1988-01-01</th>\n",
       "      <td>162</td>\n",
       "      <td>2434</td>\n",
       "    </tr>\n",
       "    <tr>\n",
       "      <th>1989-01-01</th>\n",
       "      <td>288</td>\n",
       "      <td>2722</td>\n",
       "    </tr>\n",
       "    <tr>\n",
       "      <th>1990-01-01</th>\n",
       "      <td>1</td>\n",
       "      <td>2723</td>\n",
       "    </tr>\n",
       "    <tr>\n",
       "      <th>1991-01-01</th>\n",
       "      <td>1</td>\n",
       "      <td>2724</td>\n",
       "    </tr>\n",
       "    <tr>\n",
       "      <th>1992-01-01</th>\n",
       "      <td>2</td>\n",
       "      <td>2726</td>\n",
       "    </tr>\n",
       "    <tr>\n",
       "      <th>1994-01-01</th>\n",
       "      <td>10</td>\n",
       "      <td>2736</td>\n",
       "    </tr>\n",
       "    <tr>\n",
       "      <th>1995-01-01</th>\n",
       "      <td>21</td>\n",
       "      <td>2757</td>\n",
       "    </tr>\n",
       "    <tr>\n",
       "      <th>1996-01-01</th>\n",
       "      <td>1</td>\n",
       "      <td>2758</td>\n",
       "    </tr>\n",
       "    <tr>\n",
       "      <th>1997-01-01</th>\n",
       "      <td>230</td>\n",
       "      <td>2988</td>\n",
       "    </tr>\n",
       "    <tr>\n",
       "      <th>1998-01-01</th>\n",
       "      <td>184</td>\n",
       "      <td>3172</td>\n",
       "    </tr>\n",
       "    <tr>\n",
       "      <th>1999-01-01</th>\n",
       "      <td>550</td>\n",
       "      <td>3722</td>\n",
       "    </tr>\n",
       "    <tr>\n",
       "      <th>2000-01-01</th>\n",
       "      <td>41</td>\n",
       "      <td>3763</td>\n",
       "    </tr>\n",
       "    <tr>\n",
       "      <th>2001-01-01</th>\n",
       "      <td>1776</td>\n",
       "      <td>5539</td>\n",
       "    </tr>\n",
       "    <tr>\n",
       "      <th>2002-01-01</th>\n",
       "      <td>458</td>\n",
       "      <td>5997</td>\n",
       "    </tr>\n",
       "    <tr>\n",
       "      <th>2003-01-01</th>\n",
       "      <td>1120</td>\n",
       "      <td>7117</td>\n",
       "    </tr>\n",
       "    <tr>\n",
       "      <th>2004-01-01</th>\n",
       "      <td>162</td>\n",
       "      <td>7279</td>\n",
       "    </tr>\n",
       "    <tr>\n",
       "      <th>2005-01-01</th>\n",
       "      <td>1240</td>\n",
       "      <td>8519</td>\n",
       "    </tr>\n",
       "    <tr>\n",
       "      <th>2006-01-01</th>\n",
       "      <td>1023</td>\n",
       "      <td>9542</td>\n",
       "    </tr>\n",
       "    <tr>\n",
       "      <th>2007-01-01</th>\n",
       "      <td>2991</td>\n",
       "      <td>12533</td>\n",
       "    </tr>\n",
       "    <tr>\n",
       "      <th>2008-01-01</th>\n",
       "      <td>4849</td>\n",
       "      <td>17382</td>\n",
       "    </tr>\n",
       "    <tr>\n",
       "      <th>2009-01-01</th>\n",
       "      <td>5701</td>\n",
       "      <td>23083</td>\n",
       "    </tr>\n",
       "    <tr>\n",
       "      <th>2010-01-01</th>\n",
       "      <td>2958</td>\n",
       "      <td>26041</td>\n",
       "    </tr>\n",
       "    <tr>\n",
       "      <th>2011-01-01</th>\n",
       "      <td>3573</td>\n",
       "      <td>29614</td>\n",
       "    </tr>\n",
       "    <tr>\n",
       "      <th>2012-01-01</th>\n",
       "      <td>6643</td>\n",
       "      <td>36257</td>\n",
       "    </tr>\n",
       "    <tr>\n",
       "      <th>2013-01-01</th>\n",
       "      <td>599</td>\n",
       "      <td>36856</td>\n",
       "    </tr>\n",
       "    <tr>\n",
       "      <th>2014-01-01</th>\n",
       "      <td>2505</td>\n",
       "      <td>39361</td>\n",
       "    </tr>\n",
       "    <tr>\n",
       "      <th>2015-01-01</th>\n",
       "      <td>4305</td>\n",
       "      <td>43666</td>\n",
       "    </tr>\n",
       "    <tr>\n",
       "      <th>2016-01-01</th>\n",
       "      <td>3797</td>\n",
       "      <td>47463</td>\n",
       "    </tr>\n",
       "    <tr>\n",
       "      <th>2017-01-01</th>\n",
       "      <td>4361</td>\n",
       "      <td>51824</td>\n",
       "    </tr>\n",
       "    <tr>\n",
       "      <th>2018-01-01</th>\n",
       "      <td>3116</td>\n",
       "      <td>54940</td>\n",
       "    </tr>\n",
       "    <tr>\n",
       "      <th>2019-01-01</th>\n",
       "      <td>3587</td>\n",
       "      <td>58527</td>\n",
       "    </tr>\n",
       "    <tr>\n",
       "      <th>2020-01-01</th>\n",
       "      <td>6444</td>\n",
       "      <td>64971</td>\n",
       "    </tr>\n",
       "    <tr>\n",
       "      <th>2021-01-01</th>\n",
       "      <td>4747</td>\n",
       "      <td>69718</td>\n",
       "    </tr>\n",
       "    <tr>\n",
       "      <th>2022-01-01</th>\n",
       "      <td>2395</td>\n",
       "      <td>72113</td>\n",
       "    </tr>\n",
       "  </tbody>\n",
       "</table>\n",
       "</div>"
      ],
      "text/plain": [
       "            count  cumulative_windturbine_num\n",
       "year                                         \n",
       "1982-01-01    930                         930\n",
       "1983-01-01    433                        1363\n",
       "1984-01-01    155                        1518\n",
       "1985-01-01    482                        2000\n",
       "1986-01-01     79                        2079\n",
       "1987-01-01    193                        2272\n",
       "1988-01-01    162                        2434\n",
       "1989-01-01    288                        2722\n",
       "1990-01-01      1                        2723\n",
       "1991-01-01      1                        2724\n",
       "1992-01-01      2                        2726\n",
       "1994-01-01     10                        2736\n",
       "1995-01-01     21                        2757\n",
       "1996-01-01      1                        2758\n",
       "1997-01-01    230                        2988\n",
       "1998-01-01    184                        3172\n",
       "1999-01-01    550                        3722\n",
       "2000-01-01     41                        3763\n",
       "2001-01-01   1776                        5539\n",
       "2002-01-01    458                        5997\n",
       "2003-01-01   1120                        7117\n",
       "2004-01-01    162                        7279\n",
       "2005-01-01   1240                        8519\n",
       "2006-01-01   1023                        9542\n",
       "2007-01-01   2991                       12533\n",
       "2008-01-01   4849                       17382\n",
       "2009-01-01   5701                       23083\n",
       "2010-01-01   2958                       26041\n",
       "2011-01-01   3573                       29614\n",
       "2012-01-01   6643                       36257\n",
       "2013-01-01    599                       36856\n",
       "2014-01-01   2505                       39361\n",
       "2015-01-01   4305                       43666\n",
       "2016-01-01   3797                       47463\n",
       "2017-01-01   4361                       51824\n",
       "2018-01-01   3116                       54940\n",
       "2019-01-01   3587                       58527\n",
       "2020-01-01   6444                       64971\n",
       "2021-01-01   4747                       69718\n",
       "2022-01-01   2395                       72113"
      ]
     },
     "execution_count": 23,
     "metadata": {},
     "output_type": "execute_result"
    }
   ],
   "source": [
    "df"
   ]
  },
  {
   "cell_type": "markdown",
   "id": "8477d293",
   "metadata": {},
   "source": [
    "Lets insert a row where count = 0 and cumulative_windturbine_num = 2726 since at the end ot 1992 the cumulative number wind turbine was 2726"
   ]
  },
  {
   "cell_type": "code",
   "execution_count": 24,
   "id": "a3cee8c4",
   "metadata": {},
   "outputs": [],
   "source": [
    "new_row = {'count': 0,\n",
    "           \"cumulative_windturbine_num\":2726}\n",
    "new_date = pd.to_datetime('1993-01-01')"
   ]
  },
  {
   "cell_type": "code",
   "execution_count": 25,
   "id": "f3e7fa00",
   "metadata": {},
   "outputs": [],
   "source": [
    "df.loc[new_date] = new_row"
   ]
  },
  {
   "cell_type": "code",
   "execution_count": 26,
   "id": "6c330786",
   "metadata": {},
   "outputs": [
    {
     "data": {
      "text/plain": [
       "count                            0\n",
       "cumulative_windturbine_num    2726\n",
       "Name: 1993-01-01 00:00:00, dtype: int64"
      ]
     },
     "execution_count": 26,
     "metadata": {},
     "output_type": "execute_result"
    }
   ],
   "source": [
    "df.loc[\"1993-01-01\"] #just checking"
   ]
  },
  {
   "cell_type": "code",
   "execution_count": 27,
   "id": "b938a4bf",
   "metadata": {},
   "outputs": [],
   "source": [
    "growth_over_year = df.resample(\"Y\")[\"cumulative_windturbine_num\"].mean()"
   ]
  },
  {
   "cell_type": "code",
   "execution_count": 28,
   "id": "0a1a0360",
   "metadata": {},
   "outputs": [
    {
     "data": {
      "text/plain": [
       "<Figure size 640x480 with 0 Axes>"
      ]
     },
     "metadata": {},
     "output_type": "display_data"
    },
    {
     "data": {
      "image/png": "[encoded data removed]",
      "text/plain": [
       "<Figure size 640x480 with 4 Axes>"
      ]
     },
     "metadata": {},
     "output_type": "display_data"
    }
   ],
   "source": [
    "decomposition = seasonal_decompose(growth_over_year)\n",
    "fig = plt.figure()\n",
    "fig = decomposition.plot()"
   ]
  },
  {
   "cell_type": "markdown",
   "id": "ba7bea3d",
   "metadata": {},
   "source": [
    "Lets divide this data set as train and test data"
   ]
  },
  {
   "cell_type": "code",
   "execution_count": 29,
   "id": "a6eed93d",
   "metadata": {},
   "outputs": [],
   "source": [
    "train = growth_over_year[\"1998-01-01\": \"2017-01-01\"].astype(float)\n",
    "test = growth_over_year[\"2017-01-01\" : \"2022-01-01\"].astype(float)"
   ]
  },
  {
   "cell_type": "markdown",
   "id": "cede2c0e",
   "metadata": {},
   "source": [
    "Let's check out how does the test and train data look:"
   ]
  },
  {
   "cell_type": "code",
   "execution_count": 30,
   "id": "c2da2c1a",
   "metadata": {},
   "outputs": [
    {
     "data": {
      "text/plain": [
       "<AxesSubplot:xlabel='year'>"
      ]
     },
     "execution_count": 30,
     "metadata": {},
     "output_type": "execute_result"
    },
    {
     "data": {
      "image/png": "[encoded data removed]",
      "text/plain": [
       "<Figure size 600x400 with 1 Axes>"
      ]
     },
     "metadata": {},
     "output_type": "display_data"
    }
   ],
   "source": [
    "fig, ax = plt.subplots(figsize = (6,4))\n",
    "train.plot()\n",
    "test.plot()"
   ]
  },
  {
   "cell_type": "markdown",
   "id": "2a23b340",
   "metadata": {},
   "source": [
    "Now we are finally ready to use ARIMA model to generate a prediction regarding the number of Wind Turbine by 2025. For this dataset I will use the following values for order=(1,1,1). These values are also known as p, d, q. Here the order=(1,1,1) means that we are using an ARIMA model with 1 autoregressive term, 1 differencing term, and 1 moving average term. When there is a apparent trend in the data the q = 1 (differencing term) is used.\n",
    "Since our data has apparent trend I am using order=(1,1,1). In case no apparent trend I would have used order=(1,0,1).  "
   ]
  },
  {
   "cell_type": "code",
   "execution_count": 34,
   "id": "ff52f774",
   "metadata": {},
   "outputs": [
    {
     "name": "stderr",
     "output_type": "stream",
     "text": [
      "/Users/chowdhury/opt/anaconda3/lib/python3.9/site-packages/statsmodels/tsa/statespace/sarimax.py:966: UserWarning: Non-stationary starting autoregressive parameters found. Using zeros as starting parameters.\n",
      "  warn('Non-stationary starting autoregressive parameters'\n"
     ]
    }
   ],
   "source": [
    "model = ARIMA(train, order=(1,1,1)).fit() "
   ]
  },
  {
   "cell_type": "markdown",
   "id": "25e9a799",
   "metadata": {},
   "source": [
    "Now let's do get some predictions."
   ]
  },
  {
   "cell_type": "code",
   "execution_count": 31,
   "id": "4524b4a9",
   "metadata": {},
   "outputs": [
    {
     "name": "stderr",
     "output_type": "stream",
     "text": [
      "/Users/chowdhury/opt/anaconda3/lib/python3.9/site-packages/statsmodels/tsa/statespace/sarimax.py:966: UserWarning: Non-stationary starting autoregressive parameters found. Using zeros as starting parameters.\n",
      "  warn('Non-stationary starting autoregressive parameters'\n"
     ]
    },
    {
     "ename": "KeyError",
     "evalue": "'The `start` argument could not be matched to a location related to the index of the data.'",
     "output_type": "error",
     "traceback": [
      "\u001b[0;31m---------------------------------------------------------------------------\u001b[0m",
      "\u001b[0;31mKeyError\u001b[0m                                  Traceback (most recent call last)",
      "\u001b[0;32m~/opt/anaconda3/lib/python3.9/site-packages/pandas/_libs/index.pyx\u001b[0m in \u001b[0;36mpandas._libs.index.DatetimeEngine.get_loc\u001b[0;34m()\u001b[0m\n",
      "\u001b[0;32mpandas/_libs/hashtable_class_helper.pxi\u001b[0m in \u001b[0;36mpandas._libs.hashtable.Int64HashTable.get_item\u001b[0;34m()\u001b[0m\n",
      "\u001b[0;32mpandas/_libs/hashtable_class_helper.pxi\u001b[0m in \u001b[0;36mpandas._libs.hashtable.Int64HashTable.get_item\u001b[0;34m()\u001b[0m\n",
      "\u001b[0;31mKeyError\u001b[0m: 883612800000000000",
      "\nDuring handling of the above exception, another exception occurred:\n",
      "\u001b[0;31mKeyError\u001b[0m                                  Traceback (most recent call last)",
      "\u001b[0;32m~/opt/anaconda3/lib/python3.9/site-packages/pandas/core/indexes/base.py\u001b[0m in \u001b[0;36mget_loc\u001b[0;34m(self, key, method, tolerance)\u001b[0m\n\u001b[1;32m   3628\u001b[0m             \u001b[0;32mtry\u001b[0m\u001b[0;34m:\u001b[0m\u001b[0;34m\u001b[0m\u001b[0;34m\u001b[0m\u001b[0m\n\u001b[0;32m-> 3629\u001b[0;31m                 \u001b[0;32mreturn\u001b[0m \u001b[0mself\u001b[0m\u001b[0;34m.\u001b[0m\u001b[0m_engine\u001b[0m\u001b[0;34m.\u001b[0m\u001b[0mget_loc\u001b[0m\u001b[0;34m(\u001b[0m\u001b[0mcasted_key\u001b[0m\u001b[0;34m)\u001b[0m\u001b[0;34m\u001b[0m\u001b[0;34m\u001b[0m\u001b[0m\n\u001b[0m\u001b[1;32m   3630\u001b[0m             \u001b[0;32mexcept\u001b[0m \u001b[0mKeyError\u001b[0m \u001b[0;32mas\u001b[0m \u001b[0merr\u001b[0m\u001b[0;34m:\u001b[0m\u001b[0;34m\u001b[0m\u001b[0;34m\u001b[0m\u001b[0m\n",
      "\u001b[0;32m~/opt/anaconda3/lib/python3.9/site-packages/pandas/_libs/index.pyx\u001b[0m in \u001b[0;36mpandas._libs.index.DatetimeEngine.get_loc\u001b[0;34m()\u001b[0m\n",
      "\u001b[0;32m~/opt/anaconda3/lib/python3.9/site-packages/pandas/_libs/index.pyx\u001b[0m in \u001b[0;36mpandas._libs.index.DatetimeEngine.get_loc\u001b[0;34m()\u001b[0m\n",
      "\u001b[0;31mKeyError\u001b[0m: Timestamp('1998-01-01 00:00:00')",
      "\nThe above exception was the direct cause of the following exception:\n",
      "\u001b[0;31mKeyError\u001b[0m                                  Traceback (most recent call last)",
      "\u001b[0;32m~/opt/anaconda3/lib/python3.9/site-packages/pandas/core/indexes/datetimes.py\u001b[0m in \u001b[0;36mget_loc\u001b[0;34m(self, key, method, tolerance)\u001b[0m\n\u001b[1;32m    695\u001b[0m         \u001b[0;32mtry\u001b[0m\u001b[0;34m:\u001b[0m\u001b[0;34m\u001b[0m\u001b[0;34m\u001b[0m\u001b[0m\n\u001b[0;32m--> 696\u001b[0;31m             \u001b[0;32mreturn\u001b[0m \u001b[0mIndex\u001b[0m\u001b[0;34m.\u001b[0m\u001b[0mget_loc\u001b[0m\u001b[0;34m(\u001b[0m\u001b[0mself\u001b[0m\u001b[0;34m,\u001b[0m \u001b[0mkey\u001b[0m\u001b[0;34m,\u001b[0m \u001b[0mmethod\u001b[0m\u001b[0;34m,\u001b[0m \u001b[0mtolerance\u001b[0m\u001b[0;34m)\u001b[0m\u001b[0;34m\u001b[0m\u001b[0;34m\u001b[0m\u001b[0m\n\u001b[0m\u001b[1;32m    697\u001b[0m         \u001b[0;32mexcept\u001b[0m \u001b[0mKeyError\u001b[0m \u001b[0;32mas\u001b[0m \u001b[0merr\u001b[0m\u001b[0;34m:\u001b[0m\u001b[0;34m\u001b[0m\u001b[0;34m\u001b[0m\u001b[0m\n",
      "\u001b[0;32m~/opt/anaconda3/lib/python3.9/site-packages/pandas/core/indexes/base.py\u001b[0m in \u001b[0;36mget_loc\u001b[0;34m(self, key, method, tolerance)\u001b[0m\n\u001b[1;32m   3630\u001b[0m             \u001b[0;32mexcept\u001b[0m \u001b[0mKeyError\u001b[0m \u001b[0;32mas\u001b[0m \u001b[0merr\u001b[0m\u001b[0;34m:\u001b[0m\u001b[0;34m\u001b[0m\u001b[0;34m\u001b[0m\u001b[0m\n\u001b[0;32m-> 3631\u001b[0;31m                 \u001b[0;32mraise\u001b[0m \u001b[0mKeyError\u001b[0m\u001b[0;34m(\u001b[0m\u001b[0mkey\u001b[0m\u001b[0;34m)\u001b[0m \u001b[0;32mfrom\u001b[0m \u001b[0merr\u001b[0m\u001b[0;34m\u001b[0m\u001b[0;34m\u001b[0m\u001b[0m\n\u001b[0m\u001b[1;32m   3632\u001b[0m             \u001b[0;32mexcept\u001b[0m \u001b[0mTypeError\u001b[0m\u001b[0;34m:\u001b[0m\u001b[0;34m\u001b[0m\u001b[0;34m\u001b[0m\u001b[0m\n",
      "\u001b[0;31mKeyError\u001b[0m: Timestamp('1998-01-01 00:00:00')",
      "\nThe above exception was the direct cause of the following exception:\n",
      "\u001b[0;31mKeyError\u001b[0m                                  Traceback (most recent call last)",
      "\u001b[0;32m~/opt/anaconda3/lib/python3.9/site-packages/statsmodels/tsa/base/tsa_model.py\u001b[0m in \u001b[0;36mget_prediction_index\u001b[0;34m(start, end, nobs, base_index, index, silent, index_none, index_generated, data)\u001b[0m\n\u001b[1;32m    355\u001b[0m     \u001b[0;32mtry\u001b[0m\u001b[0;34m:\u001b[0m\u001b[0;34m\u001b[0m\u001b[0;34m\u001b[0m\u001b[0m\n\u001b[0;32m--> 356\u001b[0;31m         start, _, start_oos = get_index_label_loc(\n\u001b[0m\u001b[1;32m    357\u001b[0m             \u001b[0mstart\u001b[0m\u001b[0;34m,\u001b[0m \u001b[0mbase_index\u001b[0m\u001b[0;34m,\u001b[0m \u001b[0mdata\u001b[0m\u001b[0;34m.\u001b[0m\u001b[0mrow_labels\u001b[0m\u001b[0;34m\u001b[0m\u001b[0;34m\u001b[0m\u001b[0m\n",
      "\u001b[0;32m~/opt/anaconda3/lib/python3.9/site-packages/statsmodels/tsa/base/tsa_model.py\u001b[0m in \u001b[0;36mget_index_label_loc\u001b[0;34m(key, index, row_labels)\u001b[0m\n\u001b[1;32m    278\u001b[0m         \u001b[0;32mexcept\u001b[0m\u001b[0;34m:\u001b[0m\u001b[0;34m\u001b[0m\u001b[0;34m\u001b[0m\u001b[0m\n\u001b[0;32m--> 279\u001b[0;31m             \u001b[0;32mraise\u001b[0m \u001b[0me\u001b[0m\u001b[0;34m\u001b[0m\u001b[0;34m\u001b[0m\u001b[0m\n\u001b[0m\u001b[1;32m    280\u001b[0m     \u001b[0;32mreturn\u001b[0m \u001b[0mloc\u001b[0m\u001b[0;34m,\u001b[0m \u001b[0mindex\u001b[0m\u001b[0;34m,\u001b[0m \u001b[0mindex_was_expanded\u001b[0m\u001b[0;34m\u001b[0m\u001b[0;34m\u001b[0m\u001b[0m\n",
      "\u001b[0;32m~/opt/anaconda3/lib/python3.9/site-packages/statsmodels/tsa/base/tsa_model.py\u001b[0m in \u001b[0;36mget_index_label_loc\u001b[0;34m(key, index, row_labels)\u001b[0m\n\u001b[1;32m    242\u001b[0m     \u001b[0;32mtry\u001b[0m\u001b[0;34m:\u001b[0m\u001b[0;34m\u001b[0m\u001b[0;34m\u001b[0m\u001b[0m\n\u001b[0;32m--> 243\u001b[0;31m         \u001b[0mloc\u001b[0m\u001b[0;34m,\u001b[0m \u001b[0mindex\u001b[0m\u001b[0;34m,\u001b[0m \u001b[0mindex_was_expanded\u001b[0m \u001b[0;34m=\u001b[0m \u001b[0mget_index_loc\u001b[0m\u001b[0;34m(\u001b[0m\u001b[0mkey\u001b[0m\u001b[0;34m,\u001b[0m \u001b[0mindex\u001b[0m\u001b[0;34m)\u001b[0m\u001b[0;34m\u001b[0m\u001b[0;34m\u001b[0m\u001b[0m\n\u001b[0m\u001b[1;32m    244\u001b[0m     \u001b[0;32mexcept\u001b[0m \u001b[0mKeyError\u001b[0m \u001b[0;32mas\u001b[0m \u001b[0me\u001b[0m\u001b[0;34m:\u001b[0m\u001b[0;34m\u001b[0m\u001b[0;34m\u001b[0m\u001b[0m\n",
      "\u001b[0;32m~/opt/anaconda3/lib/python3.9/site-packages/statsmodels/tsa/base/tsa_model.py\u001b[0m in \u001b[0;36mget_index_loc\u001b[0;34m(key, index)\u001b[0m\n\u001b[1;32m    175\u001b[0m         \u001b[0;31m# (note that get_loc will throw a KeyError if key is invalid)\u001b[0m\u001b[0;34m\u001b[0m\u001b[0;34m\u001b[0m\u001b[0m\n\u001b[0;32m--> 176\u001b[0;31m         \u001b[0mloc\u001b[0m \u001b[0;34m=\u001b[0m \u001b[0mindex\u001b[0m\u001b[0;34m.\u001b[0m\u001b[0mget_loc\u001b[0m\u001b[0;34m(\u001b[0m\u001b[0mkey\u001b[0m\u001b[0;34m)\u001b[0m\u001b[0;34m\u001b[0m\u001b[0;34m\u001b[0m\u001b[0m\n\u001b[0m\u001b[1;32m    177\u001b[0m     \u001b[0;32melif\u001b[0m \u001b[0mint_index\u001b[0m \u001b[0;32mor\u001b[0m \u001b[0mrange_index\u001b[0m\u001b[0;34m:\u001b[0m\u001b[0;34m\u001b[0m\u001b[0;34m\u001b[0m\u001b[0m\n",
      "\u001b[0;32m~/opt/anaconda3/lib/python3.9/site-packages/pandas/core/indexes/datetimes.py\u001b[0m in \u001b[0;36mget_loc\u001b[0;34m(self, key, method, tolerance)\u001b[0m\n\u001b[1;32m    697\u001b[0m         \u001b[0;32mexcept\u001b[0m \u001b[0mKeyError\u001b[0m \u001b[0;32mas\u001b[0m \u001b[0merr\u001b[0m\u001b[0;34m:\u001b[0m\u001b[0;34m\u001b[0m\u001b[0;34m\u001b[0m\u001b[0m\n\u001b[0;32m--> 698\u001b[0;31m             \u001b[0;32mraise\u001b[0m \u001b[0mKeyError\u001b[0m\u001b[0;34m(\u001b[0m\u001b[0morig_key\u001b[0m\u001b[0;34m)\u001b[0m \u001b[0;32mfrom\u001b[0m \u001b[0merr\u001b[0m\u001b[0;34m\u001b[0m\u001b[0;34m\u001b[0m\u001b[0m\n\u001b[0m\u001b[1;32m    699\u001b[0m \u001b[0;34m\u001b[0m\u001b[0m\n",
      "\u001b[0;31mKeyError\u001b[0m: '1998-01-01'",
      "\nDuring handling of the above exception, another exception occurred:\n",
      "\u001b[0;31mKeyError\u001b[0m                                  Traceback (most recent call last)",
      "\u001b[0;32m/var/folders/6n/c4n1zckn7vs1dh020lln_h6m0000gn/T/ipykernel_12033/1289027160.py\u001b[0m in \u001b[0;36m<module>\u001b[0;34m\u001b[0m\n\u001b[1;32m      1\u001b[0m \u001b[0mmodel\u001b[0m \u001b[0;34m=\u001b[0m \u001b[0mARIMA\u001b[0m\u001b[0;34m(\u001b[0m\u001b[0mtrain\u001b[0m\u001b[0;34m,\u001b[0m \u001b[0morder\u001b[0m\u001b[0;34m=\u001b[0m\u001b[0;34m(\u001b[0m\u001b[0;36m1\u001b[0m\u001b[0;34m,\u001b[0m\u001b[0;36m1\u001b[0m\u001b[0;34m,\u001b[0m\u001b[0;36m1\u001b[0m\u001b[0;34m)\u001b[0m\u001b[0;34m)\u001b[0m\u001b[0;34m.\u001b[0m\u001b[0mfit\u001b[0m\u001b[0;34m(\u001b[0m\u001b[0;34m)\u001b[0m\u001b[0;34m\u001b[0m\u001b[0;34m\u001b[0m\u001b[0m\n\u001b[0;32m----> 2\u001b[0;31m \u001b[0my_pred\u001b[0m \u001b[0;34m=\u001b[0m \u001b[0mmodel\u001b[0m\u001b[0;34m.\u001b[0m\u001b[0mpredict\u001b[0m\u001b[0;34m(\u001b[0m\u001b[0mstart\u001b[0m\u001b[0;34m=\u001b[0m\u001b[0;34m\"1998-01-01\"\u001b[0m\u001b[0;34m,\u001b[0m \u001b[0mend\u001b[0m\u001b[0;34m=\u001b[0m\u001b[0;34m\"2022-01-01\"\u001b[0m\u001b[0;34m)\u001b[0m\u001b[0;34m\u001b[0m\u001b[0;34m\u001b[0m\u001b[0m\n\u001b[0m\u001b[1;32m      3\u001b[0m \u001b[0mfig\u001b[0m\u001b[0;34m,\u001b[0m \u001b[0max\u001b[0m \u001b[0;34m=\u001b[0m \u001b[0mplt\u001b[0m\u001b[0;34m.\u001b[0m\u001b[0msubplots\u001b[0m\u001b[0;34m(\u001b[0m\u001b[0mfigsize\u001b[0m\u001b[0;34m=\u001b[0m\u001b[0;34m(\u001b[0m\u001b[0;36m8\u001b[0m\u001b[0;34m,\u001b[0m \u001b[0;36m4\u001b[0m\u001b[0;34m)\u001b[0m\u001b[0;34m)\u001b[0m\u001b[0;34m\u001b[0m\u001b[0;34m\u001b[0m\u001b[0m\n",
      "\u001b[0;32m~/opt/anaconda3/lib/python3.9/site-packages/statsmodels/base/wrapper.py\u001b[0m in \u001b[0;36mwrapper\u001b[0;34m(self, *args, **kwargs)\u001b[0m\n\u001b[1;32m    111\u001b[0m             \u001b[0mobj\u001b[0m \u001b[0;34m=\u001b[0m \u001b[0mdata\u001b[0m\u001b[0;34m.\u001b[0m\u001b[0mwrap_output\u001b[0m\u001b[0;34m(\u001b[0m\u001b[0mfunc\u001b[0m\u001b[0;34m(\u001b[0m\u001b[0mresults\u001b[0m\u001b[0;34m,\u001b[0m \u001b[0;34m*\u001b[0m\u001b[0margs\u001b[0m\u001b[0;34m,\u001b[0m \u001b[0;34m**\u001b[0m\u001b[0mkwargs\u001b[0m\u001b[0;34m)\u001b[0m\u001b[0;34m,\u001b[0m \u001b[0mhow\u001b[0m\u001b[0;34m[\u001b[0m\u001b[0;36m0\u001b[0m\u001b[0;34m]\u001b[0m\u001b[0;34m,\u001b[0m \u001b[0mhow\u001b[0m\u001b[0;34m[\u001b[0m\u001b[0;36m1\u001b[0m\u001b[0;34m:\u001b[0m\u001b[0;34m]\u001b[0m\u001b[0;34m)\u001b[0m\u001b[0;34m\u001b[0m\u001b[0;34m\u001b[0m\u001b[0m\n\u001b[1;32m    112\u001b[0m         \u001b[0;32melif\u001b[0m \u001b[0mhow\u001b[0m\u001b[0;34m:\u001b[0m\u001b[0;34m\u001b[0m\u001b[0;34m\u001b[0m\u001b[0m\n\u001b[0;32m--> 113\u001b[0;31m             \u001b[0mobj\u001b[0m \u001b[0;34m=\u001b[0m \u001b[0mdata\u001b[0m\u001b[0;34m.\u001b[0m\u001b[0mwrap_output\u001b[0m\u001b[0;34m(\u001b[0m\u001b[0mfunc\u001b[0m\u001b[0;34m(\u001b[0m\u001b[0mresults\u001b[0m\u001b[0;34m,\u001b[0m \u001b[0;34m*\u001b[0m\u001b[0margs\u001b[0m\u001b[0;34m,\u001b[0m \u001b[0;34m**\u001b[0m\u001b[0mkwargs\u001b[0m\u001b[0;34m)\u001b[0m\u001b[0;34m,\u001b[0m \u001b[0mhow\u001b[0m\u001b[0;34m)\u001b[0m\u001b[0;34m\u001b[0m\u001b[0;34m\u001b[0m\u001b[0m\n\u001b[0m\u001b[1;32m    114\u001b[0m         \u001b[0;32mreturn\u001b[0m \u001b[0mobj\u001b[0m\u001b[0;34m\u001b[0m\u001b[0;34m\u001b[0m\u001b[0m\n\u001b[1;32m    115\u001b[0m \u001b[0;34m\u001b[0m\u001b[0m\n",
      "\u001b[0;32m~/opt/anaconda3/lib/python3.9/site-packages/statsmodels/tsa/statespace/mlemodel.py\u001b[0m in \u001b[0;36mpredict\u001b[0;34m(self, start, end, dynamic, **kwargs)\u001b[0m\n\u001b[1;32m   3401\u001b[0m         \"\"\"\n\u001b[1;32m   3402\u001b[0m         \u001b[0;31m# Perform the prediction\u001b[0m\u001b[0;34m\u001b[0m\u001b[0;34m\u001b[0m\u001b[0m\n\u001b[0;32m-> 3403\u001b[0;31m         \u001b[0mprediction_results\u001b[0m \u001b[0;34m=\u001b[0m \u001b[0mself\u001b[0m\u001b[0;34m.\u001b[0m\u001b[0mget_prediction\u001b[0m\u001b[0;34m(\u001b[0m\u001b[0mstart\u001b[0m\u001b[0;34m,\u001b[0m \u001b[0mend\u001b[0m\u001b[0;34m,\u001b[0m \u001b[0mdynamic\u001b[0m\u001b[0;34m,\u001b[0m \u001b[0;34m**\u001b[0m\u001b[0mkwargs\u001b[0m\u001b[0;34m)\u001b[0m\u001b[0;34m\u001b[0m\u001b[0;34m\u001b[0m\u001b[0m\n\u001b[0m\u001b[1;32m   3404\u001b[0m         \u001b[0;32mreturn\u001b[0m \u001b[0mprediction_results\u001b[0m\u001b[0;34m.\u001b[0m\u001b[0mpredicted_mean\u001b[0m\u001b[0;34m\u001b[0m\u001b[0;34m\u001b[0m\u001b[0m\n\u001b[1;32m   3405\u001b[0m \u001b[0;34m\u001b[0m\u001b[0m\n",
      "\u001b[0;32m~/opt/anaconda3/lib/python3.9/site-packages/statsmodels/tsa/statespace/mlemodel.py\u001b[0m in \u001b[0;36mget_prediction\u001b[0;34m(self, start, end, dynamic, index, exog, extend_model, extend_kwargs, **kwargs)\u001b[0m\n\u001b[1;32m   3285\u001b[0m         \u001b[0;31m# Handle start, end, dynamic\u001b[0m\u001b[0;34m\u001b[0m\u001b[0;34m\u001b[0m\u001b[0m\n\u001b[1;32m   3286\u001b[0m         start, end, out_of_sample, prediction_index = (\n\u001b[0;32m-> 3287\u001b[0;31m             self.model._get_prediction_index(start, end, index))\n\u001b[0m\u001b[1;32m   3288\u001b[0m \u001b[0;34m\u001b[0m\u001b[0m\n\u001b[1;32m   3289\u001b[0m         \u001b[0;31m# Handle `dynamic`\u001b[0m\u001b[0;34m\u001b[0m\u001b[0;34m\u001b[0m\u001b[0m\n",
      "\u001b[0;32m~/opt/anaconda3/lib/python3.9/site-packages/statsmodels/tsa/base/tsa_model.py\u001b[0m in \u001b[0;36m_get_prediction_index\u001b[0;34m(self, start, end, index, silent)\u001b[0m\n\u001b[1;32m    832\u001b[0m         \"\"\"\n\u001b[1;32m    833\u001b[0m         \u001b[0mnobs\u001b[0m \u001b[0;34m=\u001b[0m \u001b[0mlen\u001b[0m\u001b[0;34m(\u001b[0m\u001b[0mself\u001b[0m\u001b[0;34m.\u001b[0m\u001b[0mendog\u001b[0m\u001b[0;34m)\u001b[0m\u001b[0;34m\u001b[0m\u001b[0;34m\u001b[0m\u001b[0m\n\u001b[0;32m--> 834\u001b[0;31m         return get_prediction_index(\n\u001b[0m\u001b[1;32m    835\u001b[0m             \u001b[0mstart\u001b[0m\u001b[0;34m,\u001b[0m\u001b[0;34m\u001b[0m\u001b[0;34m\u001b[0m\u001b[0m\n\u001b[1;32m    836\u001b[0m             \u001b[0mend\u001b[0m\u001b[0;34m,\u001b[0m\u001b[0;34m\u001b[0m\u001b[0;34m\u001b[0m\u001b[0m\n",
      "\u001b[0;32m~/opt/anaconda3/lib/python3.9/site-packages/statsmodels/tsa/base/tsa_model.py\u001b[0m in \u001b[0;36mget_prediction_index\u001b[0;34m(start, end, nobs, base_index, index, silent, index_none, index_generated, data)\u001b[0m\n\u001b[1;32m    358\u001b[0m         )\n\u001b[1;32m    359\u001b[0m     \u001b[0;32mexcept\u001b[0m \u001b[0mKeyError\u001b[0m\u001b[0;34m:\u001b[0m\u001b[0;34m\u001b[0m\u001b[0;34m\u001b[0m\u001b[0m\n\u001b[0;32m--> 360\u001b[0;31m         raise KeyError(\n\u001b[0m\u001b[1;32m    361\u001b[0m             \u001b[0;34m\"The `start` argument could not be matched to a\"\u001b[0m\u001b[0;34m\u001b[0m\u001b[0;34m\u001b[0m\u001b[0m\n\u001b[1;32m    362\u001b[0m             \u001b[0;34m\" location related to the index of the data.\"\u001b[0m\u001b[0;34m\u001b[0m\u001b[0;34m\u001b[0m\u001b[0m\n",
      "\u001b[0;31mKeyError\u001b[0m: 'The `start` argument could not be matched to a location related to the index of the data.'"
     ]
    }
   ],
   "source": [
    "y_pred = model.predict(start=\"1998-01-01\", end=\"2022-01-01\")\n",
    "fig, ax = plt.subplots(figsize=(8, 4))"
   ]
  },
  {
   "cell_type": "markdown",
   "id": "8a408828",
   "metadata": {},
   "source": [
    "Okay let's see what is going on and why the start argument could not be matched"
   ]
  },
  {
   "cell_type": "code",
   "execution_count": 36,
   "id": "6fa46afb",
   "metadata": {},
   "outputs": [
    {
     "data": {
      "text/plain": [
       "DatetimeIndex(['1998-12-31', '1999-12-31', '2000-12-31', '2001-12-31',\n",
       "               '2002-12-31', '2003-12-31', '2004-12-31', '2005-12-31',\n",
       "               '2006-12-31', '2007-12-31', '2008-12-31', '2009-12-31',\n",
       "               '2010-12-31', '2011-12-31', '2012-12-31', '2013-12-31',\n",
       "               '2014-12-31', '2015-12-31', '2016-12-31'],\n",
       "              dtype='datetime64[ns]', name='year', freq='A-DEC')"
      ]
     },
     "execution_count": 36,
     "metadata": {},
     "output_type": "execute_result"
    }
   ],
   "source": [
    "train.index"
   ]
  },
  {
   "cell_type": "markdown",
   "id": "0d2393f2",
   "metadata": {},
   "source": [
    "***Since we resampled the data at a yearly frequency. The training data index got set at the end of the year. So we just need to change the prediction start date and end date.***"
   ]
  },
  {
   "cell_type": "code",
   "execution_count": 42,
   "id": "b14a98dc",
   "metadata": {},
   "outputs": [],
   "source": [
    "y_pred = model.predict(start=\"2017-12-31\", end=\"2025-12-31\")"
   ]
  },
  {
   "cell_type": "markdown",
   "id": "30136ce2",
   "metadata": {},
   "source": [
    "***Now let's plot:***"
   ]
  },
  {
   "cell_type": "code",
   "execution_count": 45,
   "id": "ab5f4d78",
   "metadata": {
    "scrolled": false
   },
   "outputs": [
    {
     "data": {
      "image/png": "[encoded data removed]",
      "text/plain": [
       "<Figure size 800x400 with 1 Axes>"
      ]
     },
     "metadata": {},
     "output_type": "display_data"
    }
   ],
   "source": [
    "fig, ax = plt.subplots(figsize=(8, 4))\n",
    "train.plot(label=\"train\")\n",
    "test.plot(label=\"test\")\n",
    "y_pred.plot(label=\"preds\")\n",
    "plt.title(\"Cumulative US Wind Capacity (GW)\")\n",
    "ax.legend();"
   ]
  },
  {
   "cell_type": "markdown",
   "id": "73bab7c0",
   "metadata": {},
   "source": [
    "With that there you go we have the prediction that capture the general trend in Cumulative US Wind Capacity"
   ]
  },
  {
   "cell_type": "markdown",
   "id": "161707b0",
   "metadata": {},
   "source": [
    "\n",
    "\n",
    "\n",
    "\n",
    "\n",
    "\n"
   ]
  },
  {
   "cell_type": "markdown",
   "id": "065fb32b",
   "metadata": {},
   "source": []
  },
  {
   "cell_type": "markdown",
   "id": "a9d0b844",
   "metadata": {},
   "source": []
  },
  {
   "cell_type": "code",
   "execution_count": null,
   "id": "53ee2df0",
   "metadata": {},
   "outputs": [],
   "source": [
    "\n",
    "# growth_over_year = new_data.resample(\"Y\")[\"Cumulative US Wind Capacity (GW)\"].mean()\n",
    "\n",
    "# decomposition = seasonal_decompose(growth_over_year)\n",
    "# fig = plt.figure()\n",
    "# fig = decomposition.plot()\n",
    "\n",
    "# # train = growth_over_year[\"1998-01-01\": \"2017-01-01\"].astype(float)\n",
    "# # test = growth_over_year[\"2017-01-01\" : \"2021-01-01\"].astype(float)\n",
    "\n",
    "# fig, ax = plt.subplots(figsize = (6,4))\n",
    "# train.plot()\n",
    "# test.plot()\n",
    "\n",
    "# model = ARIMA(train, order=(1,1,1)).fit()  # Corrected parentheses\n",
    "# y_pred = model.predict(start=\"1998-12-31\", end=\"2023-12-31\")\n",
    "# fig, ax = plt.subplots(figsize=(8, 4))  # Removed extra spaces\n",
    "\n",
    "# train.plot(label=\"train\")\n",
    "# test.plot(label=\"test\")\n",
    "# y_pred.plot(label=\"preds\")\n",
    "# plt.title(\"Cumulative US Wind Capacity (GW)\")\n",
    "# ax.legend()\n"
   ]
  },
  {
   "cell_type": "code",
   "execution_count": null,
   "id": "0a8afd9c",
   "metadata": {},
   "outputs": [],
   "source": [
    "df"
   ]
  },
  {
   "cell_type": "code",
   "execution_count": null,
   "id": "3eb9c4bb",
   "metadata": {},
   "outputs": [],
   "source": []
  }
 ],
 "metadata": {
  "kernelspec": {
   "display_name": "Python 3 (ipykernel)",
   "language": "python",
   "name": "python3"
  },
  "language_info": {
   "codemirror_mode": {
    "name": "ipython",
    "version": 3
   },
   "file_extension": ".py",
   "mimetype": "text/x-python",
   "name": "python",
   "nbconvert_exporter": "python",
   "pygments_lexer": "ipython3",
   "version": "3.9.13"
  }
 },
 "nbformat": 4,
 "nbformat_minor": 5
}
